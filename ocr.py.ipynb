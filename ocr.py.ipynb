{
 "cells": [
  {
   "cell_type": "code",
   "execution_count": null,
   "metadata": {},
   "outputs": [],
   "source": [
    "import numpy as np\n",
    "import cv2\n",
    "from PIL import Image\n",
    "import pytesseract\n",
    "import sys\n",
    "from pdf2image import convert_from_path\n",
    "import os\n",
    "import random"
   ]
  },
  {
   "cell_type": "code",
   "execution_count": null,
   "metadata": {},
   "outputs": [],
   "source": [
    "pytesseract.pytesseract.tesseract_cmd= r'C:\\Users\\aadis\\AppData\\Local\\Programs\\Tesseract-OCR\\tesseract.exe'\n",
    "pages = convert_from_path('akshayr.pdf',500)\n",
    "image_counter=1"
   ]
  },
  {
   "cell_type": "code",
   "execution_count": 42,
   "metadata": {},
   "outputs": [],
   "source": [
    "for page in pages:\n",
    "    filename=\"page_\"+str(image_counter)+\".jpg\"\n",
    "    page.save(filename,'JPEG')\n",
    "    image_counter=image_counter+1\n",
    "    "
   ]
  },
  {
   "cell_type": "code",
   "execution_count": 43,
   "metadata": {},
   "outputs": [],
   "source": [
    "filelimit=image_counter-1\n",
    "\n",
    "basepath=os.path.dirname('__file__')\n",
    "file_path2=os.path.join(basepath,'outputs',\"outputs\"+str(random.randint(1,100000)))\n",
    "\n",
    "\n",
    "f=open(file_path2,\"a\")\n",
    "for i in range(1, filelimit + 1):\n",
    "    filename=\"page_\"+str(i)+\".jpg\"\n",
    "    text = str(((pytesseract.image_to_string(Image.open(filename)))))\n",
    "    f.write(text)\n",
    "f.close()"
   ]
  },
  {
   "cell_type": "code",
   "execution_count": null,
   "metadata": {},
   "outputs": [],
   "source": []
  }
 ],
 "metadata": {
  "kernelspec": {
   "display_name": "Python 3",
   "language": "python",
   "name": "python3"
  },
  "language_info": {
   "codemirror_mode": {
    "name": "ipython",
    "version": 3
   },
   "file_extension": ".py",
   "mimetype": "text/x-python",
   "name": "python",
   "nbconvert_exporter": "python",
   "pygments_lexer": "ipython3",
   "version": "3.8.5"
  }
 },
 "nbformat": 4,
 "nbformat_minor": 4
}
